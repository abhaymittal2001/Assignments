{
  "cells": [
    {
      "cell_type": "markdown",
      "metadata": {
        "id": "view-in-github",
        "colab_type": "text"
      },
      "source": [
        "<a href=\"https://colab.research.google.com/github/abhaymittal2001/Assignments/blob/main/ASS2.ipynb\" target=\"_parent\"><img src=\"https://colab.research.google.com/assets/colab-badge.svg\" alt=\"Open In Colab\"/></a>"
      ]
    },
    {
      "cell_type": "code",
      "execution_count": null,
      "metadata": {
        "id": "1IxyCIj1Poss"
      },
      "outputs": [],
      "source": [
        "#20EE10002"
      ]
    },
    {
      "cell_type": "code",
      "execution_count": null,
      "metadata": {
        "execution": {
          "iopub.execute_input": "2024-02-14T12:12:25.149360Z",
          "iopub.status.busy": "2024-02-14T12:12:25.148540Z",
          "iopub.status.idle": "2024-02-14T12:13:48.282390Z",
          "shell.execute_reply": "2024-02-14T12:13:48.281433Z",
          "shell.execute_reply.started": "2024-02-14T12:12:25.149329Z"
        },
        "id": "DXBzt4D4Posv",
        "outputId": "db6b2d0a-c7d8-4c3a-ef2d-f1f580e023e6"
      },
      "outputs": [
        {
          "name": "stdout",
          "output_type": "stream",
          "text": [
            "Overall Red Channel Mean: 233.46112455825806\n",
            "Overall Green Channel Mean: 235.74692612686158\n",
            "Overall Blue Channel Mean: 241.6147343536377\n",
            "Overall Red Channel Std: 36.95789980460783\n",
            "Overall Green Channel Std: 32.839888156593226\n",
            "Overall Blue Channel Std: 27.666827695642617\n"
          ]
        }
      ],
      "source": [
        "import os\n",
        "import numpy as np\n",
        "import pandas as pd\n",
        "from PIL import Image\n",
        "\n",
        "train_csv_path = r\"C:\\Users\\ABHAY MITTAL\\Desktop\\DLFA\\archive (1)\\train.csv\"\n",
        "train_df = pd.read_csv(train_csv_path)\n",
        "train_df\n",
        "\n",
        "# Path to the folder containing images\n",
        "images_folder = r\"C:\\Users\\ABHAY MITTAL\\Desktop\\DLFA\\archive (1)\\clips-data-2020\\clips\"\n",
        "\n",
        "# Calculate mean and standard deviation for each channel\n",
        "red_channel_mean = [0]\n",
        "green_channel_mean = [0]\n",
        "blue_channel_mean = [0]\n",
        "red_channel_std = [0]\n",
        "green_channel_std = [0]\n",
        "blue_channel_std = [0]\n",
        "\n",
        "for image_id in train_df['id']:\n",
        "    # Load image\n",
        "#     image_path = os.path.join(images_folder, 'clips-' + str(image_id) + '.png')\n",
        "    image_name = f\"clips-{image_id}\"\n",
        "    image_path = os.path.join(images_folder, f\"{image_name}.png\")\n",
        "    image = np.array(Image.open(image_path))\n",
        "\n",
        "    # Compute mean and std for each channel\n",
        "    red_channel_mean.append(np.mean(image[:, :, 0]))\n",
        "    green_channel_mean.append(np.mean(image[:, :, 1]))\n",
        "    blue_channel_mean.append(np.mean(image[:, :, 2]))\n",
        "\n",
        "    red_channel_std.append(np.std(image[:, :, 0]))\n",
        "    green_channel_std.append(np.std(image[:, :, 1]))\n",
        "    blue_channel_std.append(np.std(image[:, :, 2]))\n",
        "\n",
        "# Compute overall mean and std for each channel\n",
        "overall_red_mean = np.mean(red_channel_mean)\n",
        "overall_green_mean = np.mean(green_channel_mean)\n",
        "overall_blue_mean = np.mean(blue_channel_mean)\n",
        "\n",
        "overall_red_std = np.mean(red_channel_std)\n",
        "overall_green_std = np.mean(green_channel_std)\n",
        "overall_blue_std = np.mean(blue_channel_std)\n",
        "\n",
        "print(\"Overall Mean of Red Channel:\", overall_red_mean)\n",
        "print(\"Overall Mean of Green Channel :\", overall_green_mean)\n",
        "print(\"Overall Mean of Blue Channel :\", overall_blue_mean)\n",
        "\n",
        "print(\"Overall Red Channel  standard deviation:\", overall_red_std)\n",
        "print(\"Overall Green Channel  standard deviation:\", overall_green_std)\n",
        "print(\"Overall Blue Channel standard deviation:\", overall_blue_std)\n"
      ]
    },
    {
      "cell_type": "code",
      "execution_count": null,
      "metadata": {
        "execution": {
          "iopub.execute_input": "2024-02-14T11:06:29.328728Z",
          "iopub.status.busy": "2024-02-14T11:06:29.326955Z",
          "iopub.status.idle": "2024-02-14T11:06:29.359905Z",
          "shell.execute_reply": "2024-02-14T11:06:29.358542Z",
          "shell.execute_reply.started": "2024-02-14T11:06:29.328636Z"
        },
        "id": "qvLD612sPosz",
        "outputId": "982e0629-491f-423f-d630-e9341a52de83"
      },
      "outputs": [
        {
          "data": {
            "text/html": [
              "<div>\n",
              "<style scoped>\n",
              "    .dataframe tbody tr th:only-of-type {\n",
              "        vertical-align: middle;\n",
              "    }\n",
              "\n",
              "    .dataframe tbody tr th {\n",
              "        vertical-align: top;\n",
              "    }\n",
              "\n",
              "    .dataframe thead th {\n",
              "        text-align: right;\n",
              "    }\n",
              "</style>\n",
              "<table border=\"1\" class=\"dataframe\">\n",
              "  <thead>\n",
              "    <tr style=\"text-align: right;\">\n",
              "      <th></th>\n",
              "      <th>id</th>\n",
              "      <th>clip_count</th>\n",
              "    </tr>\n",
              "  </thead>\n",
              "  <tbody>\n",
              "    <tr>\n",
              "      <th>0</th>\n",
              "      <td>30001</td>\n",
              "      <td>11</td>\n",
              "    </tr>\n",
              "    <tr>\n",
              "      <th>1</th>\n",
              "      <td>30002</td>\n",
              "      <td>2</td>\n",
              "    </tr>\n",
              "    <tr>\n",
              "      <th>2</th>\n",
              "      <td>30003</td>\n",
              "      <td>26</td>\n",
              "    </tr>\n",
              "    <tr>\n",
              "      <th>3</th>\n",
              "      <td>30004</td>\n",
              "      <td>41</td>\n",
              "    </tr>\n",
              "    <tr>\n",
              "      <th>4</th>\n",
              "      <td>30005</td>\n",
              "      <td>49</td>\n",
              "    </tr>\n",
              "    <tr>\n",
              "      <th>...</th>\n",
              "      <td>...</td>\n",
              "      <td>...</td>\n",
              "    </tr>\n",
              "    <tr>\n",
              "      <th>19995</th>\n",
              "      <td>49996</td>\n",
              "      <td>35</td>\n",
              "    </tr>\n",
              "    <tr>\n",
              "      <th>19996</th>\n",
              "      <td>49997</td>\n",
              "      <td>54</td>\n",
              "    </tr>\n",
              "    <tr>\n",
              "      <th>19997</th>\n",
              "      <td>49998</td>\n",
              "      <td>72</td>\n",
              "    </tr>\n",
              "    <tr>\n",
              "      <th>19998</th>\n",
              "      <td>49999</td>\n",
              "      <td>24</td>\n",
              "    </tr>\n",
              "    <tr>\n",
              "      <th>19999</th>\n",
              "      <td>50000</td>\n",
              "      <td>35</td>\n",
              "    </tr>\n",
              "  </tbody>\n",
              "</table>\n",
              "<p>20000 rows × 2 columns</p>\n",
              "</div>"
            ],
            "text/plain": [
              "          id  clip_count\n",
              "0      30001          11\n",
              "1      30002           2\n",
              "2      30003          26\n",
              "3      30004          41\n",
              "4      30005          49\n",
              "...      ...         ...\n",
              "19995  49996          35\n",
              "19996  49997          54\n",
              "19997  49998          72\n",
              "19998  49999          24\n",
              "19999  50000          35\n",
              "\n",
              "[20000 rows x 2 columns]"
            ]
          },
          "execution_count": 9,
          "metadata": {},
          "output_type": "execute_result"
        }
      ],
      "source": [
        "train_df"
      ]
    },
    {
      "cell_type": "code",
      "execution_count": null,
      "metadata": {
        "execution": {
          "iopub.execute_input": "2024-02-14T13:48:07.695702Z",
          "iopub.status.busy": "2024-02-14T13:48:07.695092Z",
          "iopub.status.idle": "2024-02-14T13:48:07.748237Z",
          "shell.execute_reply": "2024-02-14T13:48:07.747468Z",
          "shell.execute_reply.started": "2024-02-14T13:48:07.695669Z"
        },
        "id": "SWmHcpbJPos0"
      },
      "outputs": [],
      "source": [
        "import torch\n",
        "import torchvision.transforms as transforms\n",
        "from torch.utils.data import Dataset, DataLoader\n",
        "import pandas as pd\n",
        "import numpy as np\n",
        "import random\n",
        "import matplotlib.pyplot as plt\n",
        "import os\n",
        "\n",
        "class ClipDataset(Dataset):\n",
        "    def __init__(self, image_ids, csv_file, root_dir, roll_number, transform=None):\n",
        "        self.image_ids = image_ids\n",
        "        self.annotations = pd.read_csv(csv_file)\n",
        "        self.root_dir = root_dir\n",
        "        self.roll_number = roll_number\n",
        "        self.transform = transform\n",
        "\n",
        "    def __len__(self):\n",
        "        return len(self.image_ids)\n",
        "\n",
        "    def __getitem__(self, idx):\n",
        "        img_name = os.path.join(self.root_dir, 'clips-' + str(self.image_ids[idx]) + '.png')\n",
        "        image = plt.imread(img_name)\n",
        "        if image.shape[2] == 4:\n",
        "            image = image[:, :, :3]\n",
        "        label = int(self.annotations.loc[self.annotations['id'] == self.image_ids[idx], 'clip_count'])\n",
        "\n",
        "        # Convert image to tensor and print shape\n",
        "        image_tensor = torch.tensor(image)\n",
        "        print(\"Original image shape:\", image_tensor.shape)\n",
        "\n",
        "        # Resize image\n",
        "        image_tensor = torch.tensor(image).permute(2, 0, 1)\n",
        "\n",
        "        # Resize image\n",
        "        resize_transform = transforms.Resize((28, 28))\n",
        "        image = resize_transform(image_tensor)\n",
        "        image=torch.tensor(image)\n",
        "\n",
        "        print(\"k:\",image.shape)\n",
        "\n",
        "\n",
        "        # Random rotation augmentation\n",
        "        x = self.roll_number\n",
        "        angle = random.uniform(-x, x)\n",
        "        image = transforms.functional.rotate(image, angle)\n",
        "\n",
        "        # Random horizontal flipping\n",
        "        prob = x / 100\n",
        "        if random.random() < prob:\n",
        "            image = transforms.functional.hflip(image)\n",
        "\n",
        "        # Normalize each channel of the image\n",
        "        image[:, :, 0] = (image[:, :, 0] - overall_red_mean) / overall_red_std\n",
        "        image[:, :, 1] = (image[:, :, 1] - overall_green_mean) / overall_green_std\n",
        "        image[:, :, 2] = (image[:, :, 2] - overall_blue_mean) / overall_blue_std\n",
        "\n",
        "        # Convert to flattened 1D tensor\n",
        "        image = image.view(-1)\n",
        "\n",
        "        return image, label\n",
        "\n",
        "# Sample usage:\n",
        "# train_csv_path = '/kaggle/input/count-the-paperclips/train.csv'\n",
        "# train_df = pd.read_csv(train_csv_path)\n",
        "\n",
        "# Sampled image IDs for training, validation, and testing\n",
        "sampled_image_ids = train_df['id'].tolist()\n",
        "random.seed(42)  # For reproducibility\n",
        "random.shuffle(sampled_image_ids)\n",
        "\n",
        "train_image_ids = sampled_image_ids[:2000]\n",
        "valid_image_ids = sampled_image_ids[2000:2250]\n",
        "test_image_ids = sampled_image_ids[2250:2500]\n",
        "\n",
        "\n",
        "roll_number = 2  # Replace with your roll number's last two digits\n",
        "\n",
        "train_dataset = ClipDataset(train_image_ids,  r\"C:\\Users\\ABHAY MITTAL\\Desktop\\DLFA\\archive (1)\\train.csv\" , images_folder, roll_number)\n",
        "train_loader = DataLoader(train_dataset, batch_size=8, shuffle=True)\n"
      ]
    },
    {
      "cell_type": "code",
      "execution_count": null,
      "metadata": {
        "id": "d8p-N8ukPos1"
      },
      "outputs": [],
      "source": [
        "import torch.nn as nn\n",
        "\n",
        "class MLP(nn.Module):\n",
        "    def __init__(self, input_size):\n",
        "        super(MLP, self).__init__()\n",
        "        self.fc1 = nn.Linear(input_size, input_size // 8)\n",
        "        self.fc2 = nn.Linear(input_size // 8, input_size // 64)\n",
        "        self.fc3 = nn.Linear(input_size // 64, 1)\n",
        "        self.relu = nn.ReLU()\n",
        "\n",
        "    def forward(self, x):\n",
        "        x = self.relu(self.fc1(x))\n",
        "        x = self.relu(self.fc2(x))\n",
        "        x = self.fc3(x)\n",
        "        return x\n",
        "\n",
        "# Forward pass\n",
        "def forward_pass(model, data_loader, device):\n",
        "    images, labels = next(iter(data_loader))\n",
        "    images, labels = images.to(device), labels.to(device)\n",
        "    outputs = model(images)\n",
        "    return images, outputs, labels\n",
        "# Set device\n",
        "device = torch.device(\"cuda\" if torch.cuda.is_available() else \"cpu\")\n",
        "# Load train.csv\n",
        "\n"
      ]
    },
    {
      "cell_type": "code",
      "execution_count": null,
      "metadata": {
        "execution": {
          "iopub.execute_input": "2024-02-14T13:48:16.373445Z",
          "iopub.status.busy": "2024-02-14T13:48:16.373081Z",
          "iopub.status.idle": "2024-02-14T13:48:16.421569Z",
          "shell.execute_reply": "2024-02-14T13:48:16.420683Z",
          "shell.execute_reply.started": "2024-02-14T13:48:16.373415Z"
        },
        "id": "EKZwQgPZPos1",
        "outputId": "ef4a5808-3344-4ba0-e1d3-3760ff03b247"
      },
      "outputs": [
        {
          "data": {
            "text/plain": [
              "MLP(\n",
              "  (fc1): Linear(in_features=2352, out_features=294, bias=True)\n",
              "  (fc2): Linear(in_features=294, out_features=36, bias=True)\n",
              "  (fc3): Linear(in_features=36, out_features=1, bias=True)\n",
              "  (relu): ReLU()\n",
              ")"
            ]
          },
          "execution_count": 9,
          "metadata": {},
          "output_type": "execute_result"
        }
      ],
      "source": [
        "# Set device\n",
        "device = torch.device(\"cuda\" if torch.cuda.is_available() else \"cpu\")\n",
        "# Load train.csv\n",
        "\n",
        "# Create train and validation data loaders\n",
        "roll_number = 2  # Replace with your roll number's last two digits\n",
        "images_folder=\"/kaggle/input/count-the-paperclips/clips-data-2020/clips\"\n",
        "train_dataset = ClipDataset(train_image_ids, \"/kaggle/input/count-the-paperclips/train.csv\", images_folder, roll_number)\n",
        "train_loader = DataLoader(train_dataset, batch_size=8, shuffle=True)\n",
        "valid_dataset = ClipDataset(valid_image_ids, '/kaggle/input/count-the-paperclips/train.csv', images_folder, roll_number)\n",
        "valid_loader = DataLoader(valid_dataset, batch_size=8, shuffle=False)\n",
        "test_dataset = ClipDataset(test_image_ids, '/kaggle/input/count-the-paperclips/train.csv', images_folder, roll_number)\n",
        "test_loader = DataLoader(test_dataset, batch_size=8, shuffle=False)\n",
        "# Initialize model\n",
        "model = MLP(28*28*3)\n",
        "model.to(device)\n"
      ]
    },
    {
      "cell_type": "code",
      "execution_count": null,
      "metadata": {
        "id": "4tRg6cj3Pos4"
      },
      "outputs": [],
      "source": []
    },
    {
      "cell_type": "code",
      "execution_count": null,
      "metadata": {
        "execution": {
          "iopub.execute_input": "2024-02-14T12:03:23.488626Z",
          "iopub.status.busy": "2024-02-14T12:03:23.488237Z",
          "iopub.status.idle": "2024-02-14T12:03:23.564853Z",
          "shell.execute_reply": "2024-02-14T12:03:23.563223Z",
          "shell.execute_reply.started": "2024-02-14T12:03:23.488598Z"
        },
        "id": "noQEGY-3Pos6",
        "outputId": "7467aa54-dabd-4dda-e546-8543b50a86d8"
      },
      "outputs": [
        {
          "name": "stdout",
          "output_type": "stream",
          "text": [
            "Original image shape: torch.Size([256, 256, 3])\n",
            "k: torch.Size([3, 28, 28])\n",
            "Original image shape: torch.Size([256, 256, 3])\n",
            "k: torch.Size([3, 28, 28])\n",
            "Original image shape: torch.Size([256, 256, 3])\n",
            "k: torch.Size([3, 28, 28])\n",
            "Original image shape: torch.Size([256, 256, 3])\n",
            "k: torch.Size([3, 28, 28])\n",
            "Original image shape: torch.Size([256, 256, 3])\n",
            "k: torch.Size([3, 28, 28])\n",
            "Original image shape: torch.Size([256, 256, 3])\n",
            "k: torch.Size([3, 28, 28])\n",
            "Original image shape: torch.Size([256, 256, 3])\n",
            "k: torch.Size([3, 28, 28])\n",
            "Original image shape: torch.Size([256, 256, 3])\n",
            "k: torch.Size([3, 28, 28])\n",
            "Input image shape: torch.Size([2352])\n"
          ]
        },
        {
          "name": "stderr",
          "output_type": "stream",
          "text": [
            "/tmp/ipykernel_33/1362970395.py:34: FutureWarning: Calling int on a single element Series is deprecated and will raise a TypeError in the future. Use int(ser.iloc[0]) instead\n",
            "  label = int(self.annotations.loc[self.annotations['id'] == self.image_ids[idx], 'clip_count'])\n",
            "/opt/conda/lib/python3.10/site-packages/torchvision/transforms/functional.py:1603: UserWarning: The default value of the antialias parameter of all the resizing transforms (Resize(), RandomResizedCrop(), etc.) will change from None to True in v0.17, in order to be consistent across the PIL and Tensor backends. To suppress this warning, directly pass antialias=True (recommended, future default), antialias=None (current default, which means False for Tensors and True for PIL), or antialias=False (only works on Tensors - PIL will still use antialiasing). This also applies if you are using the inference transforms from the models weights: update the call to weights.transforms(antialias=True).\n",
            "  warnings.warn(\n",
            "/tmp/ipykernel_33/1362970395.py:46: UserWarning: To copy construct from a tensor, it is recommended to use sourceTensor.clone().detach() or sourceTensor.clone().detach().requires_grad_(True), rather than torch.tensor(sourceTensor).\n",
            "  image=torch.tensor(image)\n"
          ]
        }
      ],
      "source": [
        "# Forward pass for one batch\n",
        "images, outputs, labels = forward_pass(model, train_loader, device)\n",
        "print(\"Shape of images:\", images.shape)\n",
        "print(\"Predicted outputs:\", outputs)\n",
        "print(\"Ground truth labels:\", labels)\n",
        "\n",
        "# Print model summary\n",
        "print(model)"
      ]
    },
    {
      "cell_type": "code",
      "execution_count": null,
      "metadata": {
        "execution": {
          "iopub.execute_input": "2024-02-14T12:03:32.315511Z",
          "iopub.status.busy": "2024-02-14T12:03:32.315095Z",
          "iopub.status.idle": "2024-02-14T12:03:32.454951Z",
          "shell.execute_reply": "2024-02-14T12:03:32.453767Z",
          "shell.execute_reply.started": "2024-02-14T12:03:32.315481Z"
        },
        "id": "LjyFlSmRPos7",
        "outputId": "0edfbf9b-9faa-42d5-8e2f-f39d2b02b83b"
      },
      "outputs": [
        {
          "name": "stdout",
          "output_type": "stream",
          "text": [
            "Original image shape: torch.Size([256, 256, 3])\n",
            "k: torch.Size([3, 28, 28])\n",
            "Original image shape: torch.Size([256, 256, 3])\n",
            "k: torch.Size([3, 28, 28])\n",
            "Original image shape: torch.Size([256, 256, 3])\n",
            "k: torch.Size([3, 28, 28])\n",
            "Original image shape: torch.Size([256, 256, 3])\n",
            "k: torch.Size([3, 28, 28])\n",
            "Original image shape: torch.Size([256, 256, 3])\n",
            "k: torch.Size([3, 28, 28])\n",
            "Original image shape: torch.Size([256, 256, 3])\n",
            "k: torch.Size([3, 28, 28])\n",
            "Original image shape: torch.Size([256, 256, 3])\n",
            "k: torch.Size([3, 28, 28])\n",
            "Original image shape: torch.Size([256, 256, 3])\n",
            "k: torch.Size([3, 28, 28])\n",
            "Shape of images: torch.Size([8, 2352])\n",
            "Predicted outputs: tensor([[-0.4912],\n",
            "        [-0.4691],\n",
            "        [-0.4744],\n",
            "        [-0.5055],\n",
            "        [-0.4692],\n",
            "        [-0.4859],\n",
            "        [-0.5000],\n",
            "        [-0.4804]], grad_fn=<AddmmBackward0>)\n",
            "Ground truth labels: tensor([46, 40, 36, 26, 33,  0, 27, 43])\n",
            "MLP(\n",
            "  (fc1): Linear(in_features=2352, out_features=294, bias=True)\n",
            "  (fc2): Linear(in_features=294, out_features=36, bias=True)\n",
            "  (fc3): Linear(in_features=36, out_features=1, bias=True)\n",
            "  (relu): ReLU()\n",
            ")\n"
          ]
        },
        {
          "name": "stderr",
          "output_type": "stream",
          "text": [
            "/tmp/ipykernel_33/1362970395.py:34: FutureWarning: Calling int on a single element Series is deprecated and will raise a TypeError in the future. Use int(ser.iloc[0]) instead\n",
            "  label = int(self.annotations.loc[self.annotations['id'] == self.image_ids[idx], 'clip_count'])\n",
            "/tmp/ipykernel_33/1362970395.py:46: UserWarning: To copy construct from a tensor, it is recommended to use sourceTensor.clone().detach() or sourceTensor.clone().detach().requires_grad_(True), rather than torch.tensor(sourceTensor).\n",
            "  image=torch.tensor(image)\n"
          ]
        }
      ],
      "source": [
        "# Forward pass for one batch\n",
        "images, outputs, labels = forward_pass(model, train_loader, device)\n",
        "print(\"Shape of images:\", images.shape)\n",
        "print(\"Predicted outputs:\", outputs)\n",
        "print(\"Ground truth labels:\", labels)\n",
        "\n",
        "# Print model summary\n",
        "print(model)"
      ]
    },
    {
      "cell_type": "code",
      "execution_count": null,
      "metadata": {
        "execution": {
          "iopub.execute_input": "2024-02-14T12:18:19.052587Z",
          "iopub.status.busy": "2024-02-14T12:18:19.051668Z",
          "iopub.status.idle": "2024-02-14T12:21:49.453885Z",
          "shell.execute_reply": "2024-02-14T12:21:49.452630Z",
          "shell.execute_reply.started": "2024-02-14T12:18:19.052551Z"
        },
        "id": "NRC-PNqQPos8",
        "outputId": "e39f886c-4c8c-42e6-c0c1-a840e37f5d95"
      },
      "outputs": [
        {
          "name": "stderr",
          "output_type": "stream",
          "text": [
            "100%|██████████| 20/20 [03:29<00:00, 10.50s/it]\n"
          ]
        },
        {
          "data": {
            "image/png": "[encoded data removed]",
            "text/plain": [
              "<Figure size 640x480 with 1 Axes>"
            ]
          },
          "metadata": {},
          "output_type": "display_data"
        },
        {
          "ename": "NameError",
          "evalue": "name 'test_data' is not defined",
          "output_type": "error",
          "traceback": [
            "\u001b[0;31m---------------------------------------------------------------------------\u001b[0m",
            "\u001b[0;31mNameError\u001b[0m                                 Traceback (most recent call last)",
            "Cell \u001b[0;32mIn[14], line 66\u001b[0m\n\u001b[1;32m     63\u001b[0m best_model\u001b[38;5;241m.\u001b[39mto(device)\n\u001b[1;32m     65\u001b[0m \u001b[38;5;66;03m# Test the model\u001b[39;00m\n\u001b[0;32m---> 66\u001b[0m test_dataset \u001b[38;5;241m=\u001b[39m ClipDataset(\u001b[43mtest_data\u001b[49m[\u001b[38;5;124m'\u001b[39m\u001b[38;5;124mid\u001b[39m\u001b[38;5;124m'\u001b[39m]\u001b[38;5;241m.\u001b[39mtolist(), \u001b[38;5;124m'\u001b[39m\u001b[38;5;124mtrain.csv\u001b[39m\u001b[38;5;124m'\u001b[39m, \u001b[38;5;124m'\u001b[39m\u001b[38;5;124mimages_folder\u001b[39m\u001b[38;5;124m'\u001b[39m)\n\u001b[1;32m     67\u001b[0m test_loader \u001b[38;5;241m=\u001b[39m DataLoader(test_dataset, batch_size\u001b[38;5;241m=\u001b[39m\u001b[38;5;241m8\u001b[39m, shuffle\u001b[38;5;241m=\u001b[39m\u001b[38;5;28;01mFalse\u001b[39;00m)\n\u001b[1;32m     69\u001b[0m test_losses \u001b[38;5;241m=\u001b[39m []\n",
            "\u001b[0;31mNameError\u001b[0m: name 'test_data' is not defined"
          ]
        }
      ],
      "source": [
        "import torch\n",
        "import torch.optim as optim\n",
        "import torch.nn as nn\n",
        "from tqdm import tqdm\n",
        "import warnings\n",
        "import matplotlib.pyplot as plt\n",
        "import numpy as np\n",
        "\n",
        "# ... rest of your imports (Dataset, DataLoader, MLP models, etc.)\n",
        "\n",
        "def train_and_evaluate_model(\n",
        "    model, train_loader, valid_loader, test_loader, device, lr=0.001, epochs=20\n",
        "):\n",
        "\n",
        "\n",
        "\n",
        "    warnings.filterwarnings(\"ignore\")  # Temporarily suppress warnings\n",
        "\n",
        "    optimizer = optim.Adam(model.parameters(), lr=lr)\n",
        "    criterion = nn.MSELoss()\n",
        "\n",
        "    train_losses = []\n",
        "    valid_losses = []\n",
        "    best_valid_loss = float('inf')\n",
        "\n",
        "    for epoch in tqdm(range(epochs)):\n",
        "        model.train()\n",
        "        running_train_loss = 0.0\n",
        "\n",
        "        for inputs, labels in train_loader:\n",
        "            inputs, labels = inputs.to(device), labels.to(device)\n",
        "            optimizer.zero_grad()\n",
        "            outputs = model(inputs)\n",
        "            loss = criterion(outputs, labels.float().unsqueeze(1))\n",
        "            loss.backward()\n",
        "            optimizer.step()\n",
        "            running_train_loss += loss.item() * inputs.size(0)\n",
        "\n",
        "        epoch_train_loss = running_train_loss / len(train_loader.dataset)\n",
        "        train_losses.append(epoch_train_loss)\n",
        "\n",
        "        model.eval()\n",
        "        running_valid_loss = 0.0\n",
        "        with torch.no_grad():\n",
        "            for inputs, labels in valid_loader:\n",
        "                inputs, labels = inputs.to(device), labels.to(device)\n",
        "                outputs = model(inputs)\n",
        "                loss = criterion(outputs, labels.float().unsqueeze(1))\n",
        "                running_valid_loss += loss.item() * inputs.size(0)\n",
        "\n",
        "        epoch_valid_loss = running_valid_loss / len(valid_loader.dataset)\n",
        "        valid_losses.append(epoch_valid_loss)\n",
        "\n",
        "        if epoch_valid_loss < best_valid_loss:\n",
        "            best_valid_loss = epoch_valid_loss\n",
        "            torch.save(model.state_dict(), 'best_model.pth')\n",
        "\n",
        "    # Load best model and evaluate on test set\n",
        "    best_model = MLP(28 * 28 * 3)  # Assuming MLP model with correct input size\n",
        "    best_model.load_state_dict(torch.load('best_model.pth'))\n",
        "    best_model.to(device)\n",
        "\n",
        "    test_losses = []\n",
        "    with torch.no_grad():\n",
        "        for inputs, labels in test_loader:\n",
        "            inputs, labels = inputs.to(device), labels.to(device)\n",
        "            outputs = best_model(inputs)\n",
        "            loss = criterion(outputs, labels.float().unsqueeze(1))\n",
        "            test_losses.append(loss.item())\n",
        "\n",
        "    average_test_loss = np.mean(test_losses)\n",
        "\n",
        "    # Plot training and validation loss\n",
        "    plt.plot(range(1, epochs + 1), train_losses, label='Train Loss')\n",
        "    plt.plot(range(1, epochs + 1), valid_losses, label='Valid Loss')\n",
        "    plt.xlabel('Epoch')\n",
        "    plt.ylabel('Loss')\n",
        "    plt.title('Training and Validation Loss')\n",
        "    plt.legend()\n",
        "    plt.show()\n",
        "\n",
        "\n",
        "\n",
        "\n",
        "# Report average MSE on test set\n",
        "average_test_loss = np.mean(test_losses)\n",
        "print(\"Average MSE on test set:\", average_test_loss)\n",
        "warnings.filterwarnings(\"default\")"
      ]
    },
    {
      "cell_type": "code",
      "execution_count": null,
      "metadata": {
        "execution": {
          "iopub.execute_input": "2024-02-14T13:52:56.969815Z",
          "iopub.status.busy": "2024-02-14T13:52:56.969467Z",
          "iopub.status.idle": "2024-02-14T13:56:32.428842Z",
          "shell.execute_reply": "2024-02-14T13:56:32.427787Z",
          "shell.execute_reply.started": "2024-02-14T13:52:56.969786Z"
        },
        "id": "NUuLkB7qPos9",
        "outputId": "2521c493-6adf-40c5-c647-ce8eb4e70bda"
      },
      "outputs": [
        {
          "name": "stderr",
          "output_type": "stream",
          "text": [
            "100%|██████████| 20/20 [03:32<00:00, 10.63s/it]\n"
          ]
        },
        {
          "data": {
            "image/png": "[encoded data removed]",
            "text/plain": [
              "<Figure size 640x480 with 1 Axes>"
            ]
          },
          "metadata": {},
          "output_type": "display_data"
        },
        {
          "data": {
            "image/png": "[encoded data removed]",
            "text/plain": [
              "<Figure size 640x480 with 1 Axes>"
            ]
          },
          "metadata": {},
          "output_type": "display_data"
        },
        {
          "name": "stdout",
          "output_type": "stream",
          "text": [
            "Average MSE on test set: 19.862068593502045\n"
          ]
        }
      ],
      "source": [
        "# Train the model\n",
        "import warnings\n",
        "\n",
        "# Ignore all warnings\n",
        "warnings.filterwarnings(\"ignore\")\n",
        "\n",
        "# Your code here\n",
        "\n",
        "# Reset warnings filter\n",
        "\n",
        "\n",
        "import torch.optim as optim\n",
        "\n",
        "from tqdm import tqdm\n",
        "optimizer = optim.Adam(model.parameters(), lr=0.001)\n",
        "criterion = nn.MSELoss()\n",
        "\n",
        "train_losses = []\n",
        "valid_losses = []\n",
        "best_valid_loss = float('inf')\n",
        "\n",
        "for epoch in tqdm(range(20)):\n",
        "    model.train()\n",
        "    running_train_loss = 0.0\n",
        "    for inputs, labels in train_loader:\n",
        "        inputs, labels = inputs.to(device), labels.to(device)\n",
        "        optimizer.zero_grad()\n",
        "        outputs = model(inputs)\n",
        "        loss = criterion(outputs, labels.float().unsqueeze(1))\n",
        "        loss.backward()\n",
        "        optimizer.step()\n",
        "        running_train_loss += loss.item() * inputs.size(0)\n",
        "    epoch_train_loss = running_train_loss / len(train_loader.dataset)\n",
        "    train_losses.append(epoch_train_loss)\n",
        "\n",
        "    model.eval()\n",
        "    running_valid_loss = 0.0\n",
        "    with torch.no_grad():\n",
        "        for inputs, labels in valid_loader:\n",
        "            inputs, labels = inputs.to(device), labels.to(device)\n",
        "            outputs = model(inputs)\n",
        "            loss = criterion(outputs, labels.float().unsqueeze(1))\n",
        "            running_valid_loss += loss.item()\n",
        "    epoch_valid_loss = running_valid_loss / len(valid_loader)\n",
        "    valid_losses.append(epoch_valid_loss)\n",
        "\n",
        "    if epoch_valid_loss < best_valid_loss:\n",
        "        best_valid_loss = epoch_valid_loss\n",
        "        torch.save(model.state_dict(), 'best_model.pth')\n",
        "\n",
        "plt.plot(range(1, 21), train_losses, label='Train Loss')\n",
        "plt.plot(range(1, 21), valid_losses, label='Valid Loss')\n",
        "plt.xlabel('Epoch')\n",
        "plt.ylabel('Loss')\n",
        "plt.title('Training and Validation Loss')\n",
        "plt.legend()\n",
        "plt.show()\n",
        "\n",
        "best_model = MLP(28*28*3)\n",
        "best_model.load_state_dict(torch.load('best_model.pth'))\n",
        "best_model.to(device)\n",
        "test_losses = []\n",
        "criterion = nn.MSELoss()\n",
        "\n",
        "with torch.no_grad():\n",
        "    for inputs, labels in test_loader:\n",
        "        inputs, labels = inputs.to(device), labels.to(device)\n",
        "        outputs = best_model(inputs)\n",
        "        loss = criterion(outputs, labels.float().unsqueeze(1))\n",
        "        test_losses.append(loss.item())\n",
        "\n",
        "# Plot ground truth vs predicted clips\n",
        "test_predictions = []\n",
        "test_labels = []\n",
        "for inputs, labels in test_loader:\n",
        "    inputs, labels = inputs.to(device), labels.to(device)\n",
        "    outputs = best_model(inputs)\n",
        "    test_predictions.extend(outputs.cpu().detach().numpy().flatten())\n",
        "    test_labels.extend(labels.cpu().detach().numpy())\n",
        "\n",
        "plt.scatter(test_labels, test_predictions)\n",
        "plt.xlabel('Ground Truth')\n",
        "plt.ylabel('Predicted')\n",
        "plt.title('Ground Truth vs Predicted Clips')\n",
        "plt.show()\n",
        "\n",
        "# Report average MSE on test set\n",
        "average_test_loss = np.mean(test_losses)\n",
        "print(\"Average MSE on test set:\", average_test_loss)\n",
        "warnings.filterwarnings(\"default\")"
      ]
    },
    {
      "cell_type": "code",
      "execution_count": null,
      "metadata": {
        "id": "FM1J4JnbPos-"
      },
      "outputs": [],
      "source": []
    },
    {
      "cell_type": "code",
      "execution_count": null,
      "metadata": {
        "id": "s4QhvPzmPos_"
      },
      "outputs": [],
      "source": []
    }
  ],
  "metadata": {
    "kaggle": {
      "accelerator": "nvidiaTeslaT4",
      "dataSources": [
        {
          "datasetId": 608500,
          "sourceId": 1092016,
          "sourceType": "datasetVersion"
        }
      ],
      "dockerImageVersionId": 30648,
      "isGpuEnabled": true,
      "isInternetEnabled": true,
      "language": "python",
      "sourceType": "notebook"
    },
    "kernelspec": {
      "display_name": "Python 3 (ipykernel)",
      "language": "python",
      "name": "python3"
    },
    "language_info": {
      "codemirror_mode": {
        "name": "ipython",
        "version": 3
      },
      "file_extension": ".py",
      "mimetype": "text/x-python",
      "name": "python",
      "nbconvert_exporter": "python",
      "pygments_lexer": "ipython3",
      "version": "3.11.4"
    },
    "colab": {
      "provenance": [],
      "include_colab_link": true
    }
  },
  "nbformat": 4,
  "nbformat_minor": 0
}
